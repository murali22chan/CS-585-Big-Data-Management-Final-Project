{
 "cells": [
  {
   "cell_type": "code",
   "execution_count": 59,
   "id": "d80ae5f5-8e73-4f3d-b886-b55646d083e3",
   "metadata": {},
   "outputs": [
    {
     "name": "stdout",
     "output_type": "stream",
     "text": [
      "Requirement already satisfied: pymongo in /opt/conda/lib/python3.10/site-packages (4.3.3)\n",
      "Requirement already satisfied: dnspython<3.0.0,>=1.16.0 in /opt/conda/lib/python3.10/site-packages (from pymongo) (2.2.1)\n"
     ]
    }
   ],
   "source": [
    "!pip install pymongo\n",
    "import pymongo"
   ]
  },
  {
   "cell_type": "code",
   "execution_count": 60,
   "id": "db02b76e-8a1b-4ddc-993a-e0b9e4584d5a",
   "metadata": {},
   "outputs": [
    {
     "name": "stdout",
     "output_type": "stream",
     "text": [
      "Requirement already satisfied: keras in /opt/conda/lib/python3.10/site-packages (2.11.0)\n",
      "Requirement already satisfied: tensorflow in /opt/conda/lib/python3.10/site-packages (2.11.0)\n",
      "Requirement already satisfied: keras<2.12,>=2.11.0 in /opt/conda/lib/python3.10/site-packages (from tensorflow) (2.11.0)\n",
      "Requirement already satisfied: numpy>=1.20 in /opt/conda/lib/python3.10/site-packages (from tensorflow) (1.23.5)\n",
      "Requirement already satisfied: six>=1.12.0 in /opt/conda/lib/python3.10/site-packages (from tensorflow) (1.16.0)\n",
      "Requirement already satisfied: protobuf<3.20,>=3.9.2 in /opt/conda/lib/python3.10/site-packages (from tensorflow) (3.19.6)\n",
      "Requirement already satisfied: libclang>=13.0.0 in /opt/conda/lib/python3.10/site-packages (from tensorflow) (14.0.6)\n",
      "Requirement already satisfied: termcolor>=1.1.0 in /opt/conda/lib/python3.10/site-packages (from tensorflow) (2.1.1)\n",
      "Requirement already satisfied: google-pasta>=0.1.1 in /opt/conda/lib/python3.10/site-packages (from tensorflow) (0.2.0)\n",
      "Requirement already satisfied: typing-extensions>=3.6.6 in /opt/conda/lib/python3.10/site-packages (from tensorflow) (4.4.0)\n",
      "Requirement already satisfied: opt-einsum>=2.3.2 in /opt/conda/lib/python3.10/site-packages (from tensorflow) (3.3.0)\n",
      "Requirement already satisfied: grpcio<2.0,>=1.24.3 in /opt/conda/lib/python3.10/site-packages (from tensorflow) (1.51.1)\n",
      "Requirement already satisfied: tensorflow-estimator<2.12,>=2.11.0 in /opt/conda/lib/python3.10/site-packages (from tensorflow) (2.11.0)\n",
      "Requirement already satisfied: astunparse>=1.6.0 in /opt/conda/lib/python3.10/site-packages (from tensorflow) (1.6.3)\n",
      "Requirement already satisfied: h5py>=2.9.0 in /opt/conda/lib/python3.10/site-packages (from tensorflow) (3.7.0)\n",
      "Requirement already satisfied: wrapt>=1.11.0 in /opt/conda/lib/python3.10/site-packages (from tensorflow) (1.14.1)\n",
      "Requirement already satisfied: flatbuffers>=2.0 in /opt/conda/lib/python3.10/site-packages (from tensorflow) (22.12.6)\n",
      "Requirement already satisfied: tensorboard<2.12,>=2.11 in /opt/conda/lib/python3.10/site-packages (from tensorflow) (2.11.0)\n",
      "Requirement already satisfied: gast<=0.4.0,>=0.2.1 in /opt/conda/lib/python3.10/site-packages (from tensorflow) (0.4.0)\n",
      "Requirement already satisfied: setuptools in /opt/conda/lib/python3.10/site-packages (from tensorflow) (65.5.1)\n",
      "Requirement already satisfied: packaging in /opt/conda/lib/python3.10/site-packages (from tensorflow) (21.3)\n",
      "Requirement already satisfied: tensorflow-io-gcs-filesystem>=0.23.1 in /opt/conda/lib/python3.10/site-packages (from tensorflow) (0.28.0)\n",
      "Requirement already satisfied: absl-py>=1.0.0 in /opt/conda/lib/python3.10/site-packages (from tensorflow) (1.3.0)\n",
      "Requirement already satisfied: wheel<1.0,>=0.23.0 in /opt/conda/lib/python3.10/site-packages (from astunparse>=1.6.0->tensorflow) (0.38.4)\n",
      "Requirement already satisfied: werkzeug>=1.0.1 in /opt/conda/lib/python3.10/site-packages (from tensorboard<2.12,>=2.11->tensorflow) (2.2.2)\n",
      "Requirement already satisfied: google-auth<3,>=1.6.3 in /opt/conda/lib/python3.10/site-packages (from tensorboard<2.12,>=2.11->tensorflow) (2.15.0)\n",
      "Requirement already satisfied: tensorboard-data-server<0.7.0,>=0.6.0 in /opt/conda/lib/python3.10/site-packages (from tensorboard<2.12,>=2.11->tensorflow) (0.6.1)\n",
      "Requirement already satisfied: markdown>=2.6.8 in /opt/conda/lib/python3.10/site-packages (from tensorboard<2.12,>=2.11->tensorflow) (3.4.1)\n",
      "Requirement already satisfied: requests<3,>=2.21.0 in /opt/conda/lib/python3.10/site-packages (from tensorboard<2.12,>=2.11->tensorflow) (2.28.1)\n",
      "Requirement already satisfied: google-auth-oauthlib<0.5,>=0.4.1 in /opt/conda/lib/python3.10/site-packages (from tensorboard<2.12,>=2.11->tensorflow) (0.4.6)\n",
      "Requirement already satisfied: tensorboard-plugin-wit>=1.6.0 in /opt/conda/lib/python3.10/site-packages (from tensorboard<2.12,>=2.11->tensorflow) (1.8.1)\n",
      "Requirement already satisfied: pyparsing!=3.0.5,>=2.0.2 in /opt/conda/lib/python3.10/site-packages (from packaging->tensorflow) (3.0.9)\n",
      "Requirement already satisfied: cachetools<6.0,>=2.0.0 in /opt/conda/lib/python3.10/site-packages (from google-auth<3,>=1.6.3->tensorboard<2.12,>=2.11->tensorflow) (5.2.0)\n",
      "Requirement already satisfied: pyasn1-modules>=0.2.1 in /opt/conda/lib/python3.10/site-packages (from google-auth<3,>=1.6.3->tensorboard<2.12,>=2.11->tensorflow) (0.2.8)\n",
      "Requirement already satisfied: rsa<5,>=3.1.4 in /opt/conda/lib/python3.10/site-packages (from google-auth<3,>=1.6.3->tensorboard<2.12,>=2.11->tensorflow) (4.9)\n",
      "Requirement already satisfied: requests-oauthlib>=0.7.0 in /opt/conda/lib/python3.10/site-packages (from google-auth-oauthlib<0.5,>=0.4.1->tensorboard<2.12,>=2.11->tensorflow) (1.3.1)\n",
      "Requirement already satisfied: charset-normalizer<3,>=2 in /opt/conda/lib/python3.10/site-packages (from requests<3,>=2.21.0->tensorboard<2.12,>=2.11->tensorflow) (2.1.1)\n",
      "Requirement already satisfied: idna<4,>=2.5 in /opt/conda/lib/python3.10/site-packages (from requests<3,>=2.21.0->tensorboard<2.12,>=2.11->tensorflow) (3.4)\n",
      "Requirement already satisfied: urllib3<1.27,>=1.21.1 in /opt/conda/lib/python3.10/site-packages (from requests<3,>=2.21.0->tensorboard<2.12,>=2.11->tensorflow) (1.26.13)\n",
      "Requirement already satisfied: certifi>=2017.4.17 in /opt/conda/lib/python3.10/site-packages (from requests<3,>=2.21.0->tensorboard<2.12,>=2.11->tensorflow) (2022.9.24)\n",
      "Requirement already satisfied: MarkupSafe>=2.1.1 in /opt/conda/lib/python3.10/site-packages (from werkzeug>=1.0.1->tensorboard<2.12,>=2.11->tensorflow) (2.1.1)\n",
      "Requirement already satisfied: pyasn1<0.5.0,>=0.4.6 in /opt/conda/lib/python3.10/site-packages (from pyasn1-modules>=0.2.1->google-auth<3,>=1.6.3->tensorboard<2.12,>=2.11->tensorflow) (0.4.8)\n",
      "Requirement already satisfied: oauthlib>=3.0.0 in /opt/conda/lib/python3.10/site-packages (from requests-oauthlib>=0.7.0->google-auth-oauthlib<0.5,>=0.4.1->tensorboard<2.12,>=2.11->tensorflow) (3.2.2)\n"
     ]
    }
   ],
   "source": [
    "!pip install keras\n",
    "!pip install tensorflow"
   ]
  },
  {
   "cell_type": "code",
   "execution_count": 61,
   "id": "7ccc01a2-7894-4884-9635-e69c7e9588ff",
   "metadata": {},
   "outputs": [],
   "source": [
    "from keras.models import model_from_json"
   ]
  },
  {
   "cell_type": "code",
   "execution_count": 62,
   "id": "643831ce-e945-4878-9dcb-d18507ea7518",
   "metadata": {},
   "outputs": [],
   "source": [
    "def load_saved_model_from_db(model_name, client, db, dbconnection):\n",
    "    json_data = {}\n",
    "    myclient = pymongo.MongoClient(client)\n",
    "    \n",
    "    mydb = myclient[db]\n",
    "    mycon = mydb[dbconnection]\n",
    "    data = mycon.find({'created_time':1670573632.139961})\n",
    "    \n",
    "    for i in data:\n",
    "        json_data = i\n",
    "        \n",
    "    keras_model = model_from_json(json_data[model_name])\n",
    "    \n",
    "    return keras_model"
   ]
  },
  {
   "cell_type": "code",
   "execution_count": 63,
   "id": "f958d43d-521c-4f30-8406-85898c0eafc7",
   "metadata": {},
   "outputs": [],
   "source": [
    "model  = load_saved_model_from_db(model_name = 'modelKafka', client ='mongodb://Container_IP/', db = 'bigData', dbconnection = 'MLModels')"
   ]
  },
  {
   "cell_type": "code",
   "execution_count": 64,
   "id": "c4956dc2-fa6c-4de6-ac1d-7d560c86c62e",
   "metadata": {},
   "outputs": [
    {
     "name": "stdout",
     "output_type": "stream",
     "text": [
      "Model: \"sequential\"\n",
      "_________________________________________________________________\n",
      " Layer (type)                Output Shape              Param #   \n",
      "=================================================================\n",
      " dense (Dense)               (None, 128)               2432      \n",
      "                                                                 \n",
      " dropout (Dropout)           (None, 128)               0         \n",
      "                                                                 \n",
      " dense_1 (Dense)             (None, 256)               33024     \n",
      "                                                                 \n",
      " dropout_1 (Dropout)         (None, 256)               0         \n",
      "                                                                 \n",
      " dense_2 (Dense)             (None, 128)               32896     \n",
      "                                                                 \n",
      " dropout_2 (Dropout)         (None, 128)               0         \n",
      "                                                                 \n",
      " dense_3 (Dense)             (None, 1)                 129       \n",
      "                                                                 \n",
      "=================================================================\n",
      "Total params: 68,481\n",
      "Trainable params: 68,481\n",
      "Non-trainable params: 0\n",
      "_________________________________________________________________\n"
     ]
    }
   ],
   "source": [
    "model.summary()"
   ]
  },
  {
   "cell_type": "code",
   "execution_count": 78,
   "id": "b3798a22-502f-428a-993b-0c26bea8ede6",
   "metadata": {},
   "outputs": [],
   "source": [
    "import tensorflow as tf\n",
    "opt = \"adam\"\n",
    "Loss = tf.keras.losses.BinaryCrossentropy(from_logits=True)\n",
    "evaluations = ['accuracy']\n",
    "\n"
   ]
  },
  {
   "cell_type": "code",
   "execution_count": 79,
   "id": "869040f3-afb3-4520-b81f-a6da3d9d2377",
   "metadata": {},
   "outputs": [],
   "source": [
    "model.compile(optimizer= opt, loss= Loss, metrics= evaluations) #just model.compile() is enough for testing"
   ]
  },
  {
   "cell_type": "code",
   "execution_count": 80,
   "id": "f8b28e2e-9909-4af2-823e-f989c99371e4",
   "metadata": {},
   "outputs": [],
   "source": [
    "import pandas as pd"
   ]
  },
  {
   "cell_type": "code",
   "execution_count": 81,
   "id": "27124e60-a6c2-4c58-889e-fd99af87745a",
   "metadata": {},
   "outputs": [],
   "source": [
    "accuracy = []"
   ]
  },
  {
   "cell_type": "code",
   "execution_count": 82,
   "id": "5b5f4837-b64f-492a-98f2-dd7c05292a82",
   "metadata": {},
   "outputs": [
    {
     "name": "stderr",
     "output_type": "stream",
     "text": [
      "/opt/conda/lib/python3.10/site-packages/keras/backend.py:5676: UserWarning: \"`binary_crossentropy` received `from_logits=True`, but the `output` argument was produced by a Sigmoid activation and thus does not represent logits. Was this intended?\n",
      "  output, from_logits = _get_logits(\n"
     ]
    },
    {
     "name": "stdout",
     "output_type": "stream",
     "text": [
      "3125/3125 [==============================] - 4s 1ms/step - loss: 0.7002 - accuracy: 0.4614\n",
      "3125/3125 [==============================] - 3s 1ms/step - loss: 0.7015 - accuracy: 0.4575\n",
      "3125/3125 [==============================] - 4s 1ms/step - loss: 0.7011 - accuracy: 0.4593\n",
      "3125/3125 [==============================] - 4s 1ms/step - loss: 0.7002 - accuracy: 0.4608\n",
      "3125/3125 [==============================] - 4s 1ms/step - loss: 0.7004 - accuracy: 0.4611\n",
      "3125/3125 [==============================] - 4s 1ms/step - loss: 0.7009 - accuracy: 0.4602\n",
      "3125/3125 [==============================] - 3s 1ms/step - loss: 0.7004 - accuracy: 0.4615\n",
      "3125/3125 [==============================] - 3s 1ms/step - loss: 0.7012 - accuracy: 0.4581\n",
      "3125/3125 [==============================] - 4s 1ms/step - loss: 0.7012 - accuracy: 0.4571\n",
      "3125/3125 [==============================] - 3s 1ms/step - loss: 0.7012 - accuracy: 0.4569\n",
      "3125/3125 [==============================] - 3s 1ms/step - loss: 0.7015 - accuracy: 0.4560\n",
      "3125/3125 [==============================] - 4s 1ms/step - loss: 0.7002 - accuracy: 0.4612\n",
      "3125/3125 [==============================] - 3s 1ms/step - loss: 0.6999 - accuracy: 0.4626\n",
      "3125/3125 [==============================] - 3s 1ms/step - loss: 0.7007 - accuracy: 0.4592\n",
      "3125/3125 [==============================] - 4s 1ms/step - loss: 0.7011 - accuracy: 0.4587\n",
      "3125/3125 [==============================] - 4s 1ms/step - loss: 0.7008 - accuracy: 0.4597\n",
      "3125/3125 [==============================] - 4s 1ms/step - loss: 0.7013 - accuracy: 0.4585\n",
      "3125/3125 [==============================] - 4s 1ms/step - loss: 0.7013 - accuracy: 0.4568\n",
      "3125/3125 [==============================] - 4s 1ms/step - loss: 0.7014 - accuracy: 0.4584\n",
      "3125/3125 [==============================] - 4s 1ms/step - loss: 0.7016 - accuracy: 0.4558\n",
      "3125/3125 [==============================] - 4s 1ms/step - loss: 0.7019 - accuracy: 0.4565\n",
      "3125/3125 [==============================] - 4s 1ms/step - loss: 0.7015 - accuracy: 0.4587\n",
      "3125/3125 [==============================] - 4s 1ms/step - loss: 0.7012 - accuracy: 0.4579\n",
      "3125/3125 [==============================] - 4s 1ms/step - loss: 0.7009 - accuracy: 0.4596\n",
      "3125/3125 [==============================] - 4s 1ms/step - loss: 0.7007 - accuracy: 0.4601\n",
      "3125/3125 [==============================] - 4s 1ms/step - loss: 0.7007 - accuracy: 0.4593\n",
      "3125/3125 [==============================] - 4s 1ms/step - loss: 0.7006 - accuracy: 0.4605\n",
      "3125/3125 [==============================] - 4s 1ms/step - loss: 0.7002 - accuracy: 0.4617\n",
      "3125/3125 [==============================] - 4s 1ms/step - loss: 0.7003 - accuracy: 0.4604\n",
      "3125/3125 [==============================] - 4s 1ms/step - loss: 0.7021 - accuracy: 0.4554\n",
      "3125/3125 [==============================] - 4s 1ms/step - loss: 0.7007 - accuracy: 0.4605\n",
      "3125/3125 [==============================] - 3s 1ms/step - loss: 0.7009 - accuracy: 0.4596\n",
      "3125/3125 [==============================] - 4s 1ms/step - loss: 0.7009 - accuracy: 0.4597\n",
      "3125/3125 [==============================] - 3s 1ms/step - loss: 0.7017 - accuracy: 0.4566\n",
      "3125/3125 [==============================] - 3s 1ms/step - loss: 0.7015 - accuracy: 0.4567\n",
      "3125/3125 [==============================] - 3s 1ms/step - loss: 0.7015 - accuracy: 0.4572\n",
      "3125/3125 [==============================] - 3s 1ms/step - loss: 0.7011 - accuracy: 0.4585\n",
      "3125/3125 [==============================] - 4s 1ms/step - loss: 0.7015 - accuracy: 0.4572\n",
      "3125/3125 [==============================] - 4s 1ms/step - loss: 0.7015 - accuracy: 0.4572\n",
      "3125/3125 [==============================] - 4s 1ms/step - loss: 0.7011 - accuracy: 0.4585\n",
      "3125/3125 [==============================] - 4s 1ms/step - loss: 0.7010 - accuracy: 0.4590\n",
      "3125/3125 [==============================] - 4s 1ms/step - loss: 0.7014 - accuracy: 0.4580\n",
      "3125/3125 [==============================] - 4s 1ms/step - loss: 0.7012 - accuracy: 0.4586\n",
      "3125/3125 [==============================] - 4s 1ms/step - loss: 0.7003 - accuracy: 0.4614\n",
      "3125/3125 [==============================] - 4s 1ms/step - loss: 0.7011 - accuracy: 0.4585\n",
      "3125/3125 [==============================] - 4s 1ms/step - loss: 0.7008 - accuracy: 0.4590\n",
      "3125/3125 [==============================] - 4s 1ms/step - loss: 0.7008 - accuracy: 0.4590\n",
      "3125/3125 [==============================] - 4s 1ms/step - loss: 0.7003 - accuracy: 0.4617\n",
      "3125/3125 [==============================] - 4s 1ms/step - loss: 0.7001 - accuracy: 0.4614\n",
      "  83/3125 [..............................] - ETA: 3s - loss: 0.6997 - accuracy: 0.4661"
     ]
    },
    {
     "name": "stderr",
     "output_type": "stream",
     "text": [
      "/opt/conda/lib/python3.10/site-packages/keras/backend.py:5676: UserWarning: \"`binary_crossentropy` received `from_logits=True`, but the `output` argument was produced by a Sigmoid activation and thus does not represent logits. Was this intended?\n",
      "  output, from_logits = _get_logits(\n"
     ]
    },
    {
     "name": "stdout",
     "output_type": "stream",
     "text": [
      "3125/3125 [==============================] - 4s 1ms/step - loss: 0.7005 - accuracy: 0.4603\n"
     ]
    }
   ],
   "source": [
    "for df in pd.read_csv(\"/readTest/SUSY.CSV\", chunksize = 100000):\n",
    "    X_test = df.iloc[:, 1:].to_numpy()\n",
    "    Y_test = df.iloc[:, 0].to_numpy()\n",
    "    score = model.evaluate(X_test, Y_test)\n",
    "    accuracy.append(score[1])"
   ]
  },
  {
   "cell_type": "code",
   "execution_count": 83,
   "id": "9df53660-54d2-4ce1-b7ec-3c53bbc2b3f8",
   "metadata": {},
   "outputs": [
    {
     "data": {
      "text/plain": [
       "50"
      ]
     },
     "execution_count": 83,
     "metadata": {},
     "output_type": "execute_result"
    }
   ],
   "source": [
    "len(accuracy) # 5 Million Records with 100K chunksize therefore 50 records"
   ]
  },
  {
   "cell_type": "code",
   "execution_count": 87,
   "id": "7f45f025-e683-43be-a846-7498227e16c2",
   "metadata": {},
   "outputs": [],
   "source": [
    "final_test_accuracy = sum(accuracy) / 50"
   ]
  },
  {
   "cell_type": "code",
   "execution_count": 89,
   "id": "01e8e28c-fcb6-48cd-a203-9d6008110f7f",
   "metadata": {},
   "outputs": [
    {
     "name": "stdout",
     "output_type": "stream",
     "text": [
      "Final test accuracy of the entire dataset: 0.45899408996105195\n"
     ]
    }
   ],
   "source": [
    "print(\"Final test accuracy of the entire dataset: \" + str(final_test_accuracy))"
   ]
  },
  {
   "cell_type": "code",
   "execution_count": null,
   "id": "eb32b6ed-fef4-4a83-942b-104fdf4a04b5",
   "metadata": {},
   "outputs": [],
   "source": []
  }
 ],
 "metadata": {
  "kernelspec": {
   "display_name": "Python 3 (ipykernel)",
   "language": "python",
   "name": "python3"
  },
  "language_info": {
   "codemirror_mode": {
    "name": "ipython",
    "version": 3
   },
   "file_extension": ".py",
   "mimetype": "text/x-python",
   "name": "python",
   "nbconvert_exporter": "python",
   "pygments_lexer": "ipython3",
   "version": "3.9.13"
  }
 },
 "nbformat": 4,
 "nbformat_minor": 5
}
